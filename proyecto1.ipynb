{
 "cells": [
  {
   "attachments": {},
   "cell_type": "markdown",
   "metadata": {},
   "source": [
    "## Project: Question-Answering on Private Documents"
   ]
  },
  {
   "cell_type": "code",
   "execution_count": 1,
   "metadata": {},
   "outputs": [
    {
     "data": {
      "text/plain": [
       "True"
      ]
     },
     "execution_count": 1,
     "metadata": {},
     "output_type": "execute_result"
    }
   ],
   "source": [
    "import os \n",
    "from dotenv import load_dotenv, find_dotenv\n",
    "load_dotenv(find_dotenv(),override=True)"
   ]
  },
  {
   "cell_type": "code",
   "execution_count": 2,
   "metadata": {},
   "outputs": [
    {
     "name": "stdout",
     "output_type": "stream",
     "text": [
      "Note: you may need to restart the kernel to use updated packages.\n"
     ]
    },
    {
     "name": "stderr",
     "output_type": "stream",
     "text": [
      "\n",
      "[notice] A new release of pip is available: 23.0.1 -> 23.1.2\n",
      "[notice] To update, run: python.exe -m pip install --upgrade pip\n"
     ]
    }
   ],
   "source": [
    "pip install pypdf -q"
   ]
  },
  {
   "cell_type": "code",
   "execution_count": 3,
   "metadata": {},
   "outputs": [],
   "source": [
    "def load_document(file):\n",
    "    from langchain.document_loaders import PyPDFLoader\n",
    "    print(f'Loading {file}....')\n",
    "    loader=PyPDFLoader(file)\n",
    "    data= loader.load()\n",
    "    return data"
   ]
  },
  {
   "cell_type": "code",
   "execution_count": 15,
   "metadata": {},
   "outputs": [],
   "source": [
    "def chunck_data(data,chunk_size=256):\n",
    "    from langchain.text_splitter import RecursiveCharacterTextSplitter\n",
    "    text_splitter= RecursiveCharacterTextSplitter(chunk_size=chunk_size, chunk_overlap=0)\n",
    "    chunks=text_splitter.split_documents(data)\n",
    "    return chunks"
   ]
  },
  {
   "cell_type": "code",
   "execution_count": 35,
   "metadata": {},
   "outputs": [
    {
     "name": "stdout",
     "output_type": "stream",
     "text": [
      "Loading files/Manual del Dungeon Master Completo 5E.pdf....\n",
      "1079\n"
     ]
    }
   ],
   "source": [
    "data= load_document('files/Manual del Dungeon Master Completo 5E.pdf')\n",
    "chunks=chunck_data(data,1500)\n",
    "print(len(chunks))"
   ]
  },
  {
   "attachments": {},
   "cell_type": "markdown",
   "metadata": {},
   "source": [
    "## Embedding y subirlo a Pinecone\n"
   ]
  },
  {
   "cell_type": "code",
   "execution_count": 41,
   "metadata": {},
   "outputs": [],
   "source": [
    "def insert_or_fetch_embeddings(index_name):\n",
    "    import pinecone\n",
    "    from langchain.vectorstores import Pinecone\n",
    "    from langchain.embeddings import OpenAIEmbeddings\n",
    "    embeddings= OpenAIEmbeddings()\n",
    "    pinecone.init(api_key=os.environ.get('PINECONE_API_KEY'), environment=os.environ.get('PINECONE_ENV'))\n",
    "    if index_name  in pinecone.list_indexes():\n",
    "         print(f'El indice{index_name} ya existe, cargando embeddings...', end='')\n",
    "         vector_store= Pinecone.from_existing_index(index_name, embeddings)\n",
    "         print('OK')\n",
    "    else:\n",
    "          print(f'Creando el indice {index_name}...', end='')\n",
    "          pinecone.create_index(index_name, dimension=1536, metric='cosine')\n",
    "          vector_store=Pinecone.from_documents(chunks,embeddings,index_name=index_name)\n",
    "          print('OK')\n",
    "\n",
    "    return vector_store        \n",
    "          \n",
    "\n"
   ]
  },
  {
   "cell_type": "code",
   "execution_count": 20,
   "metadata": {},
   "outputs": [],
   "source": [
    "#Borrar indices\n",
    "def delete_pinecone_index(index_name='all'):\n",
    "    import pinecone\n",
    "    pinecone.init(api_key=os.environ.get('PINECONE_API_KEY'), environment=os.environ.get('PINECONE_ENV'))\n",
    "    if index_name == 'all':\n",
    "        indexes= pinecone.list_indexes()\n",
    "        print('Se van a borrar todos los indices...')\n",
    "        for index in indexes:\n",
    "            pinecone.delete_index(index)\n",
    "            print('Done')\n",
    "        else:\n",
    "            print(f'Borrando indice  {index_name}...', end='')\n",
    "            pinecone.delete_index(index_name)\n",
    "            print('Ok')"
   ]
  },
  {
   "cell_type": "code",
   "execution_count": null,
   "metadata": {},
   "outputs": [],
   "source": [
    "delete_pinecone_index()"
   ]
  },
  {
   "cell_type": "code",
   "execution_count": 42,
   "metadata": {},
   "outputs": [
    {
     "name": "stdout",
     "output_type": "stream",
     "text": [
      "El indicedocument-dnd ya existe, cargando embeddings...OK\n"
     ]
    }
   ],
   "source": [
    "index_name='document-dnd'\n",
    "vector_store=insert_or_fetch_embeddings(index_name)"
   ]
  },
  {
   "attachments": {},
   "cell_type": "markdown",
   "metadata": {},
   "source": [
    "### Se vienen preguntas "
   ]
  },
  {
   "cell_type": "code",
   "execution_count": 44,
   "metadata": {},
   "outputs": [],
   "source": [
    "def ask_and_get_answer(vector_store, q):\n",
    "    from langchain.chains import RetrievalQA\n",
    "    from langchain.chat_models import ChatOpenAI\n",
    "\n",
    "    llm= ChatOpenAI(model='gpt-3.5-turbo', temperature=1)\n",
    "\n",
    "    retriver=vector_store.as_retriever(search_type='similarity',search_kwargs={'k': 3})\n",
    "\n",
    "    chain=RetrievalQA.from_chain_type(llm=llm, chain_type=\"stuff\", retriever=retriver)\n",
    "    answer=chain.run(q)\n",
    "    return answer\n",
    "def ask_with_memory(vector_store,q,chat_history=[]):\n",
    "    from langchain.chains import ConversationalRetrievalChain\n",
    "    from langchain.chat_models import ChatOpenAI\n",
    "    llm= ChatOpenAI( temperature=1)\n",
    "    retriver=vector_store.as_retriever(search_type='similarity',search_kwargs={'k': 3})\n",
    "    crc=ConversationalRetrievalChain.from_llm(llm,retriver)\n",
    "    result=crc({'question':q,'chat_history':chat_history})\n",
    "    chat_history.append((q,result['answer']))\n",
    "\n",
    "    return result, chat_history"
   ]
  },
  {
   "cell_type": "code",
   "execution_count": 30,
   "metadata": {},
   "outputs": [
    {
     "name": "stdout",
     "output_type": "stream",
     "text": [
      "El documento trata sobre las bases de la vida de aventurero en el juego de Dungeons & Dragons. Cubre desde las mecánicas de movimiento hasta las complejidades de la interacción social. También incluye las reglas de descanso y una discusión sobre las actividades que los personajes pueden realizar entre aventuras. El juego sigue un ritmo natural, donde el DM describe el entorno, los jugadores describen lo que quieren hacer y el DM narra los resultados de sus acciones. Además, el documento incluye ideales, vínculos y defectos que pueden ayudar a los jugadores a desarrollar sus personajes.\n"
     ]
    }
   ],
   "source": [
    "q='¿Sobre que trata el documento?'\n",
    "answer= ask_and_get_answer(vector_store,q)\n",
    "print(answer)"
   ]
  },
  {
   "cell_type": "code",
   "execution_count": null,
   "metadata": {},
   "outputs": [],
   "source": []
  },
  {
   "cell_type": "code",
   "execution_count": 43,
   "metadata": {},
   "outputs": [
    {
     "name": "stdout",
     "output_type": "stream",
     "text": [
      "Escribe Quit o Exit para parar la aplicacion\n",
      "\n",
      "Respuesta:El Dungeon Master (DM) es el narrador del juego y el árbitro. Su función principal es crear y dirigir las aventuras para los personajes. Esto incluye describir el entorno, los personajes no jugadores y los eventos que ocurren. Además, el DM resuelve las acciones de los jugadores y narra los resultados de sus acciones. También tiene la capacidad de improvisar y reaccionar a las decisiones de los jugadores para mantener el juego emocionante e inesperado.\n",
      "\n",
      "--------------------------------------------------\n",
      "\n",
      "\n",
      "Respuesta:En los mundos de D&D, puedes encontrar una amplia variedad de razas. Algunas de las razas más comunes incluyen:\n",
      "\n",
      "1. Humanos: Los humanos son una raza adaptable y diversa. Son conocidos por su variedad de apariencias y culturas.\n",
      "\n",
      "2. Enanos: Los enanos son una raza resistente y experta en la artesanía. Son conocidos por su habilidad en la minería y la forja.\n",
      "\n",
      "3. Elfos: Los elfos son una raza elegante y longeva. Son maestros de la magia y tienen una fuerte conexión con la naturaleza.\n",
      "\n",
      "4. Medianos: Los medianos, también conocidos como halflings, son una raza pequeña y amigable. Son conocidos por su habilidad en el robo y la supervivencia.\n",
      "\n",
      "5. Dracónidos: Los dracónidos son medio dragón y medio humano. Tienen habilidades relacionadas con los dragones, como aliento de fuego o escamas resistentes.\n",
      "\n",
      "6. Tieflings: Los tieflings son descendientes de humanos y demonios. Tienen rasgos infernales, como cuernos o colas, y a menudo son rechazados por su apariencia.\n",
      "\n",
      "Estas son solo algunas de las muchas razas que puedes encontrar en los mundos de D&D. Cada raza tiene sus propios rasgos únicos y características culturales.\n",
      "\n",
      "--------------------------------------------------\n",
      "\n",
      "Chao Pescao\n"
     ]
    }
   ],
   "source": [
    "import time\n",
    "i= 1\n",
    "print('Escribe Quit o Exit para parar la aplicacion')\n",
    "while True:\n",
    "    q= input(f'Pregunta #{i}: ')\n",
    "    i = i + 1\n",
    "    if q.lower() in ['quit', 'exit']:\n",
    "        print('Chao Pescao')\n",
    "        time.sleep(2)\n",
    "        break\n",
    "    answer = ask_and_get_answer(vector_store,q) \n",
    "    print(f'\\nRespuesta:{answer}')\n",
    "    print(f'\\n{\"-\" * 50}\\n')"
   ]
  },
  {
   "attachments": {},
   "cell_type": "markdown",
   "metadata": {},
   "source": [
    "### Running Code"
   ]
  },
  {
   "cell_type": "code",
   "execution_count": 14,
   "metadata": {},
   "outputs": [
    {
     "name": "stdout",
     "output_type": "stream",
     "text": [
      "Numero total de Tokens172808\n",
      "Mostrando coste en USD: 0.069123\n"
     ]
    }
   ],
   "source": [
    "def print_embedding_cost(text):\n",
    "    import tiktoken\n",
    "    enc= tiktoken.encoding_for_model('text-embedding-ada-002')\n",
    "    total_tokens= sum([len(enc.encode(page.page_content))for page in text])\n",
    "    print(f'Numero total de Tokens{total_tokens}')\n",
    "    print(f'Mostrando coste en USD: {total_tokens / 1000 * 0.0004:.6f}')\n",
    "\n",
    "print_embedding_cost(chunks)"
   ]
  }
 ],
 "metadata": {
  "kernelspec": {
   "display_name": "Python 3",
   "language": "python",
   "name": "python3"
  },
  "language_info": {
   "codemirror_mode": {
    "name": "ipython",
    "version": 3
   },
   "file_extension": ".py",
   "mimetype": "text/x-python",
   "name": "python",
   "nbconvert_exporter": "python",
   "pygments_lexer": "ipython3",
   "version": "3.11.0"
  },
  "orig_nbformat": 4
 },
 "nbformat": 4,
 "nbformat_minor": 2
}
